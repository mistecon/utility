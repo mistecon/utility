{
  "nbformat": 4,
  "nbformat_minor": 0,
  "metadata": {
    "colab": {
      "provenance": [],
      "authorship_tag": "ABX9TyNjV9ZAsN6klTfUSamSIoIa",
      "include_colab_link": true
    },
    "kernelspec": {
      "name": "python3",
      "display_name": "Python 3"
    },
    "language_info": {
      "name": "python"
    }
  },
  "cells": [
    {
      "cell_type": "markdown",
      "metadata": {
        "id": "view-in-github",
        "colab_type": "text"
      },
      "source": [
        "<a href=\"https://colab.research.google.com/github/mistecon/utility/blob/main/histogram.ipynb\" target=\"_parent\"><img src=\"https://colab.research.google.com/assets/colab-badge.svg\" alt=\"Open In Colab\"/></a>"
      ]
    },
    {
      "cell_type": "code",
      "source": [
        "!apt-get -y update\n",
        "!apt-get -y install gnuplot\n",
        "!pip -q install PyGnuplot gnuplotlib"
      ],
      "metadata": {
        "colab": {
          "base_uri": "https://localhost:8080/"
        },
        "id": "PnB4M3qUPQp7",
        "outputId": "bda15be9-a87f-42ce-b308-0ae7513e3acf"
      },
      "execution_count": 85,
      "outputs": [
        {
          "output_type": "stream",
          "name": "stdout",
          "text": [
            "\r0% [Working]\r            \rHit:1 https://cli.github.com/packages stable InRelease\n",
            "Get:2 https://cloud.r-project.org/bin/linux/ubuntu jammy-cran40/ InRelease [3,632 B]\n",
            "Hit:3 http://archive.ubuntu.com/ubuntu jammy InRelease\n",
            "Hit:4 https://developer.download.nvidia.com/compute/cuda/repos/ubuntu2204/x86_64  InRelease\n",
            "Get:5 http://archive.ubuntu.com/ubuntu jammy-updates InRelease [128 kB]\n",
            "Get:6 http://security.ubuntu.com/ubuntu jammy-security InRelease [129 kB]\n",
            "Hit:7 https://r2u.stat.illinois.edu/ubuntu jammy InRelease\n",
            "Get:8 http://archive.ubuntu.com/ubuntu jammy-backports InRelease [127 kB]\n",
            "Hit:9 https://ppa.launchpadcontent.net/deadsnakes/ppa/ubuntu jammy InRelease\n",
            "Hit:10 https://ppa.launchpadcontent.net/graphics-drivers/ppa/ubuntu jammy InRelease\n",
            "Hit:11 https://ppa.launchpadcontent.net/ubuntugis/ppa/ubuntu jammy InRelease\n",
            "Fetched 388 kB in 1s (278 kB/s)\n",
            "Reading package lists... Done\n",
            "W: Skipping acquire of configured file 'main/source/Sources' as repository 'https://r2u.stat.illinois.edu/ubuntu jammy InRelease' does not seem to provide it (sources.list entry misspelt?)\n",
            "Reading package lists... Done\n",
            "Building dependency tree... Done\n",
            "Reading state information... Done\n",
            "gnuplot is already the newest version (5.4.2+dfsg2-2).\n",
            "0 upgraded, 0 newly installed, 0 to remove and 40 not upgraded.\n"
          ]
        }
      ]
    },
    {
      "cell_type": "code",
      "source": [
        "import numpy as np\n",
        "import pandas as pd\n",
        "import matplotlib.pyplot as plt\n",
        "from collections import Counter\n",
        "from pathlib import Path\n",
        "import subprocess, textwrap\n"
      ],
      "metadata": {
        "id": "jqB53uooFbKA"
      },
      "execution_count": 86,
      "outputs": []
    },
    {
      "cell_type": "code",
      "source": [
        "def gnuhist(counts_densities, widths, centers, outfpath:Path, logxy_flg=False):\n",
        "    outfpath = str(outfpath).replace('\\\\','/')\n",
        "    logscale = {True:\"set logscale xy\", False:\"\"}[logxy_flg]\n",
        "    data_block = \"\\n\".join(f\"{x} {y} {w}\" for x,y,w in zip(centers, counts_densities, widths))\n",
        "    print(outfpath, logscale)\n",
        "    xmin = {True:centers[0]/2, False:(centers[0]-widths[0])/1.1}[logxy_flg]\n",
        "    xmax = {True:centers[-1]*2, False:(centers[-1]+widths[-1])*1.1}[logxy_flg]\n",
        "\n",
        "    ymin = {True:counts_densities[counts_densities!=0].min()/2, False:0}[logxy_flg]\n",
        "    ymax = {True:counts_densities.max()*2, False:counts_densities.max()*1.1}[logxy_flg]\n",
        "\n",
        "    script = textwrap.dedent(f\"\"\"\n",
        "        set term pngcairo size 800,500\n",
        "        set output '{outfpath}'\n",
        "        {logscale}\n",
        "        set xrange [{xmin}:{xmax}]\n",
        "        set yrange [{ymin}:{ymax}]\n",
        "        set style fill solid 0.5\n",
        "        set boxwidth 0.9 relative\n",
        "        plot '-' using 1:2:(0.9*$3) with boxes notitle\n",
        "        {data_block}\n",
        "        e\n",
        "    \"\"\")\n",
        "    subprocess.run([\"gnuplot\"], input=script.encode(\"utf-8\"), check=True)\n",
        "\n",
        "gnuhist(np.array([1,2,3]),np.array([1,1,1]),np.array([1,2,3]),\"test.png\", False)"
      ],
      "metadata": {
        "colab": {
          "base_uri": "https://localhost:8080/"
        },
        "id": "QSKezVcG9iRf",
        "outputId": "54124de4-8dc0-42c0-a390-94706becf608"
      },
      "execution_count": 87,
      "outputs": [
        {
          "output_type": "stream",
          "name": "stdout",
          "text": [
            "test.png \n"
          ]
        }
      ]
    },
    {
      "cell_type": "code",
      "execution_count": 88,
      "metadata": {
        "colab": {
          "base_uri": "https://localhost:8080/",
          "height": 491
        },
        "id": "t85Vt5mMFDnf",
        "outputId": "a500571e-9af4-40cf-aa17-42b8e26dd725"
      },
      "outputs": [
        {
          "output_type": "stream",
          "name": "stdout",
          "text": [
            "test.png \n"
          ]
        },
        {
          "output_type": "display_data",
          "data": {
            "text/plain": [
              "<Figure size 640x480 with 1 Axes>"
            ],
            "image/png": "[encoded data removed]"
          },
          "metadata": {}
        }
      ],
      "source": [
        "def func_hist(data, xmin=None, xmax=None, binno=20, density_flg=True):\n",
        "    \"\"\"\n",
        "    等幅ヒストグラム（集計区間は [xmin, xmax)）\n",
        "    density_flg=True: 確率密度（PDF）を返す。面積=1 になるように height = counts / (N*width)。\n",
        "    戻り値:\n",
        "        densities_or_counts (binno,), widths (binno,), centers (binno,)\n",
        "    \"\"\"\n",
        "    if xmin is None:\n",
        "        xmin = data.min()\n",
        "    if xmax is None:\n",
        "        xmax = data.max()\n",
        "\n",
        "    bins = np.linspace(xmin, xmax, binno+1)\n",
        "    #データをxmin, xmaxに含まれる範囲に絞る\n",
        "    data_clip = data[(data>=xmin)&(data<xmax)]\n",
        "    data_dg = np.digitize(data_clip, bins, right=True) #right=Trueはビンの左端を含み、右端を含まない\n",
        "    counts = pd.Series(data_dg).value_counts().reindex(index=np.arange(1, binno+1)).fillna(0).to_numpy()\n",
        "    widths = bins[1:] - bins[:-1]\n",
        "    if counts.sum()>0:\n",
        "        densities = counts/(widths*counts.sum())\n",
        "    else:\n",
        "        densities = np.zeros(binno)\n",
        "    #print((densities*widths).sum())\n",
        "    centers = (bins[1:] + bins[:-1])/2\n",
        "    if density_flg == True:\n",
        "        return densities, widths, centers\n",
        "    else:\n",
        "        return counts, widths, centers\n",
        "\n",
        "# 乱数生成\n",
        "generator = np.random.default_rng()\n",
        "data = generator.normal(size=100000)\n",
        "\n",
        "# ヒストグラム作成\n",
        "counts_densities, widths, centers = func_hist(data, -4, 4, 30, True)\n",
        "\n",
        "#gnuplotで描画\n",
        "gnuhist(counts_densities, widths, centers, \"test.png\", logxy_flg=False)\n",
        "\n",
        "# 棒グラフとして描画\n",
        "# 棒の中心を合わせるために bins の中央値を使う\n",
        "plt.bar(centers, counts_densities, width=widths, align='center', edgecolor='black')\n",
        "plt.xlabel('Value')\n",
        "plt.ylabel('Count')\n",
        "plt.title('Histogram (boxes)')\n",
        "plt.show()\n"
      ]
    },
    {
      "cell_type": "code",
      "source": [
        "def func_hist_log(data, xmin=None, xmax=None, binno=20, density_flg=True):\n",
        "    \"\"\"\n",
        "    data : numpy array (size n)\n",
        "    \"\"\"\n",
        "    if xmin is None:\n",
        "        xmin = data.min()\n",
        "    if xmax is None:\n",
        "        xmax = data.max()\n",
        "    if xmin<=0:\n",
        "        print(\"xmin should be positive\")\n",
        "        return None, None, None\n",
        "\n",
        "    logbins = np.linspace(np.log(xmin), np.log(xmax), binno+1)\n",
        "\n",
        "    #データをxmin, xmaxに含まれる範囲に絞る\n",
        "    data_clip = data[(data>=xmin)&(data<xmax)]\n",
        "    #データを何番目のbinかの数字に変換\n",
        "    data_dg = np.digitize(data_clip, np.exp(logbins), right=True) #right=Trueはビンの左端を含み、右端を含まない\n",
        "    counts = pd.Series(data_dg).value_counts().reindex(index=np.arange(1, binno+1)).fillna(0).to_numpy()\n",
        "    widths = np.exp(logbins[1:]) - np.exp(logbins[:-1])\n",
        "    if counts.sum()>0:\n",
        "        densities = counts/(widths*counts.sum())\n",
        "    else:\n",
        "        densities = np.zeros(binno)\n",
        "    print((densities*widths).sum())\n",
        "    centers = (np.exp(logbins[1:]) + np.exp(logbins[:-1]))/2\n",
        "    if density_flg == True:\n",
        "        return densities, widths, centers\n",
        "    else:\n",
        "        return counts, widths, centers\n",
        "\n",
        "# 乱数生成(べき分布)\n",
        "alpha = 2.5          # 指数（tail exponent）\n",
        "xm = 1.0          # 下限\n",
        "n = 100_000\n",
        "\n",
        "# numpy の Pareto は「1+Pareto(alpha)」が x>=1 のべき分布\n",
        "x = xm * (1 + np.random.pareto(alpha, size=n))\n",
        "\n",
        "# ヒストグラム作成\n",
        "counts_densities, widths, centers = func_hist_log(x, 1, 10**3, 30, True)\n",
        "\n",
        "#gnuplotで描画\n",
        "gnuhist(counts_densities, widths, centers, \"test.png\", logxy_flg=True)\n",
        "\n",
        "# 棒グラフとして描画\n",
        "# 棒の中心を合わせるために bins の中央値を使う\n",
        "plt.bar(centers, counts_densities, width=widths, align='center', edgecolor='black')\n",
        "plt.xscale('log')\n",
        "plt.yscale('log')\n",
        "plt.xlabel('Value')\n",
        "plt.ylabel('Count')\n",
        "plt.title('Histogram (boxes)')\n",
        "plt.show()\n"
      ],
      "metadata": {
        "colab": {
          "base_uri": "https://localhost:8080/",
          "height": 513
        },
        "id": "tJqRMXMnFoUG",
        "outputId": "8df4a9d1-3164-4bc7-e121-6cef9769961c"
      },
      "execution_count": 89,
      "outputs": [
        {
          "output_type": "stream",
          "name": "stdout",
          "text": [
            "1.0\n",
            "test.png set logscale xy\n"
          ]
        },
        {
          "output_type": "display_data",
          "data": {
            "text/plain": [
              "<Figure size 640x480 with 1 Axes>"
            ],
            "image/png": "[encoded data removed]"
          },
          "metadata": {}
        }
      ]
    },
    {
      "cell_type": "code",
      "source": [],
      "metadata": {
        "id": "hUSkXYCWLGLb"
      },
      "execution_count": null,
      "outputs": []
    }
  ]
}